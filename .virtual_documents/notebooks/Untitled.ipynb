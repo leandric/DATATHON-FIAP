import pandas as pd
# Configurar Pandas para mostrar todas as colunas
pd.set_option('display.max_columns', None)




df = pd.read_csv('https://raw.githubusercontent.com/leandric/DATATHON-FIAP/refs/heads/main/data/base_tratada.csv')


df.head()


columns = [
    'NOME',
    'ano',
    'ANOS_PM',
    'INSTITUICAO_ENSINO_ALUNO',
    'INDE',
    'PEDRA',
    'IEG',
    'IDA',
    'IPV',
    'IAA' ,
    'PONTO_VIRADA'
]


df[columns].head()



import missingno as msno

# Gráfico de barras mostrando a quantidade de nulos por coluna
msno.bar(df[columns])

# Alternativamente, um gráfico de matriz pode ser usado para uma visualização mais detalhada
msno.matrix(df[columns])


# Deletar as linhas que têm NaN na coluna 'PONTO_VIRADA'
df = df.dropna(subset=['PONTO_VIRADA'])


df[columns]




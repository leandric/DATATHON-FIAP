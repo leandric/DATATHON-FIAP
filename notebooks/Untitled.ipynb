{
 "cells": [
  {
   "cell_type": "code",
   "execution_count": 3,
   "id": "56183cc3-0a5d-4a20-a4fc-ca47c6888937",
   "metadata": {},
   "outputs": [
    {
     "name": "stdout",
     "output_type": "stream",
     "text": [
      "Objetos carregados com sucesso!\n"
     ]
    }
   ],
   "source": [
    "import pickle\n",
    "import numpy as np\n",
    "\n",
    "# Carregar o modelo\n",
    "with open('model.pkl', 'rb') as f:\n",
    "    model = pickle.load(f)\n",
    "\n",
    "# Carregar o scaler\n",
    "with open('scaler.pkl', 'rb') as f:\n",
    "    scaler = pickle.load(f)\n",
    "\n",
    "# Carregar o label_encoder\n",
    "with open('label_encoder.pkl', 'rb') as f:\n",
    "    label_encoder = pickle.load(f)\n",
    "\n",
    "print(\"Objetos carregados com sucesso!\")"
   ]
  },
  {
   "cell_type": "code",
   "execution_count": 4,
   "id": "349792b1-cd19-434e-ada8-9672e4ed1464",
   "metadata": {},
   "outputs": [
    {
     "name": "stdout",
     "output_type": "stream",
     "text": [
      "\u001b[1m1/1\u001b[0m \u001b[32m━━━━━━━━━━━━━━━━━━━━\u001b[0m\u001b[37m\u001b[0m \u001b[1m0s\u001b[0m 30ms/step\n",
      "Resultado da predição: Não\n"
     ]
    },
    {
     "name": "stderr",
     "output_type": "stream",
     "text": [
      "/Users/leandric/Documents/Git/DATATHON-FIAP/venv-dev/lib/python3.12/site-packages/sklearn/base.py:493: UserWarning: X does not have valid feature names, but StandardScaler was fitted with feature names\n",
      "  warnings.warn(\n"
     ]
    }
   ],
   "source": [
    "\n",
    "\n",
    "# Função para predição\n",
    "def fazer_predicao(pedra, ieg, ips, ipp, ida, iaa, ian, model, scaler, label_encoder):\n",
    "    # Estruturar os dados de entrada\n",
    "    input_data = np.array([[pedra, ieg, ips, ipp, ida, iaa, ian]])\n",
    "    \n",
    "    # Transformar a coluna 'PEDRA' com o LabelEncoder\n",
    "    input_data[:, 0] = label_encoder.transform(input_data[:, 0])\n",
    "    \n",
    "    # Escalar os dados de entrada\n",
    "    input_data_scaled = scaler.transform(input_data)\n",
    "    \n",
    "    # Fazer a predição usando o modelo treinado\n",
    "    predicao = model.predict(input_data_scaled)\n",
    "    \n",
    "    # Retornar o valor da predição\n",
    "    return \"Sim\" if predicao[0] > 0.5 else \"Não\"\n",
    "\n",
    "# Exemplo de uso da função:\n",
    "# Passe os valores das variáveis que você quer prever\n",
    "resultado = fazer_predicao(\n",
    "    pedra='Ametista',\n",
    "    ieg=9.9,\n",
    "    ips=4.375,\n",
    "    ipp=8.749,\n",
    "    ida=1,\n",
    "    iaa=1.500020000000001,\n",
    "    ian=1,\n",
    "    model=model, \n",
    "    scaler=scaler, \n",
    "    label_encoder=label_encoder\n",
    ")\n",
    "\n",
    "print(f'Resultado da predição: {resultado}')"
   ]
  },
  {
   "cell_type": "code",
   "execution_count": null,
   "id": "58c29ead-0b6d-4b4b-93cb-abe13e975014",
   "metadata": {},
   "outputs": [],
   "source": []
  }
 ],
 "metadata": {
  "kernelspec": {
   "display_name": "Python 3 (ipykernel)",
   "language": "python",
   "name": "python3"
  },
  "language_info": {
   "codemirror_mode": {
    "name": "ipython",
    "version": 3
   },
   "file_extension": ".py",
   "mimetype": "text/x-python",
   "name": "python",
   "nbconvert_exporter": "python",
   "pygments_lexer": "ipython3",
   "version": "3.12.2"
  }
 },
 "nbformat": 4,
 "nbformat_minor": 5
}
